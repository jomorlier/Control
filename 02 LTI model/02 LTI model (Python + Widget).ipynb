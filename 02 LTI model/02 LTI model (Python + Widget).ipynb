{
 "cells": [
  {
   "cell_type": "markdown",
   "metadata": {},
   "source": [
    "<font size = '6'><b>LTI Systems with Python</b></font>\n",
    "<br><br>\n",
    "<font size = '4'><b>(interactive widget)</b></font>\n",
    "\n",
    "<table style=\"border-style: hidden; border-collapse: collapse;\" width = \"80%\"> \n",
    "    <tr style=\"border-style: hidden; border-collapse: collapse;\">\n",
    "        <td width = 50% style=\"border-style: hidden; border-collapse: collapse;\">\n",
    "             \n",
    "        </td>\n",
    "        <td width = 30%>\n",
    "            Prof. Seungchul Lee<br>iSystems (http://isystems.unist.ac.kr/)<br>UNIST\n",
    "        </td>\n",
    "    </tr>\n",
    "</table>\n",
    "\n",
    "\n",
    "Table of Contents\n",
    "<div id=\"toc\"></div>"
   ]
  },
  {
   "cell_type": "markdown",
   "metadata": {},
   "source": [
    "# 1. Mathematical Models of LTI\n",
    "- from ebook [_Linear Feedback Control Analysis and Design with MATLAB_](http://epubs.siam.org/doi/book/10.1137/1.9780898718621 \"textbook\")\n",
    "\n",
    "## 1.1. Transfer Function (TF)\n",
    "- Brian Douglas youtube [Control Systems Lectures - Transfer Functions]\n",
    "- Laplace Transform"
   ]
  },
  {
   "cell_type": "code",
   "execution_count": 1,
   "metadata": {
    "collapsed": false
   },
   "outputs": [
    {
     "data": {
      "text/html": [
       "<iframe src=\"https://www.youtube.com/embed/RJleGwXorUk\" \n",
       "width=\"560\" height=\"315\" frameborder=\"0\" allowfullscreen></iframe>"
      ],
      "text/plain": [
       "<IPython.core.display.HTML object>"
      ]
     },
     "metadata": {},
     "output_type": "display_data"
    }
   ],
   "source": [
    "%%html\n",
    "<iframe src=\"https://www.youtube.com/embed/RJleGwXorUk\" \n",
    "width=\"560\" height=\"315\" frameborder=\"0\" allowfullscreen></iframe>"
   ]
  },
  {
   "cell_type": "markdown",
   "metadata": {},
   "source": [
    "<br>\n",
    "$$G(s) = \\frac{s+5}{s^4+2s^3+3s^2+4s+5}$$"
   ]
  },
  {
   "cell_type": "code",
   "execution_count": 2,
   "metadata": {
    "collapsed": true
   },
   "outputs": [],
   "source": [
    "import numpy as np\n",
    "import matplotlib.pyplot as plt\n",
    "import matplotlib.patches as mpatches\n",
    "from control import *\n",
    "from scipy import *\n",
    "from scipy import linalg as la\n",
    "from scipy.ndimage.filters import convolve\n",
    "from ipywidgets import *\n",
    "\n",
    "%matplotlib inline"
   ]
  },
  {
   "cell_type": "code",
   "execution_count": 3,
   "metadata": {
    "collapsed": false
   },
   "outputs": [
    {
     "name": "stdout",
     "output_type": "stream",
     "text": [
      "\n",
      "            s + 5\n",
      "-----------------------------\n",
      "s^4 + 2 s^3 + 3 s^2 + 4 s + 5\n",
      "\n"
     ]
    }
   ],
   "source": [
    "num = [1,5]\n",
    "den = [1,2,3,4,5]\n",
    "\n",
    "G = tf(num,den)\n",
    "print (G)"
   ]
  },
  {
   "cell_type": "markdown",
   "metadata": {},
   "source": [
    "$$G(s) = \\frac{6(s+5)}{(s^2+3s+1)^2(s+6)(s^3+6s^2+5s+3)}$$"
   ]
  },
  {
   "cell_type": "code",
   "execution_count": 4,
   "metadata": {
    "collapsed": false
   },
   "outputs": [
    {
     "name": "stdout",
     "output_type": "stream",
     "text": [
      "\n",
      "                                  6 s + 30\n",
      "---------------------------------------------------------------------------\n",
      "s^8 + 18 s^7 + 124 s^6 + 417 s^5 + 740 s^4 + 729 s^3 + 437 s^2 + 141 s + 18\n",
      "\n"
     ]
    }
   ],
   "source": [
    "num = [1,5]\n",
    "num = [x*6 for x in num]\n",
    "den = np.convolve(np.convolve(np.convolve([1,3,1],[1,3,1]),[1,6]),[1,6,5,3])\n",
    "den = den.tolist()\n",
    "G = tf(num,den)\n",
    "print G"
   ]
  },
  {
   "cell_type": "markdown",
   "metadata": {},
   "source": [
    "## 1.2. Transfer Function in zero-pole-gain model\n",
    "\n",
    "\n",
    "$$\n",
    "G(s)=K\\frac{(s+z_1)(s+z_2)\\cdots(s+z_m)}{(s+p_1)(s+p_2)\\cdots(s+p_n)}$$"
   ]
  },
  {
   "cell_type": "code",
   "execution_count": 5,
   "metadata": {
    "collapsed": false
   },
   "outputs": [],
   "source": [
    "#zpk does not exist in python"
   ]
  },
  {
   "cell_type": "markdown",
   "metadata": {},
   "source": [
    "## 1.3. State-space model\n",
    "\n",
    "$$\n",
    "\\begin{align*}\n",
    "\\dot{x}(t) &= Ax(t) + Bu(t)\\\\\n",
    "y(t) &= Cx(t) + Du(t)\n",
    "\\end{align*}\n",
    "$$"
   ]
  },
  {
   "cell_type": "code",
   "execution_count": 6,
   "metadata": {
    "collapsed": false
   },
   "outputs": [
    {
     "name": "stdout",
     "output_type": "stream",
     "text": [
      "A = [[ 2.25 -5.   -1.25 -0.5 ]\n",
      " [ 2.25 -4.25 -1.25 -0.25]\n",
      " [ 0.25 -0.5  -1.25 -1.  ]\n",
      " [ 1.25 -1.75 -0.25 -0.75]]\n",
      "\n",
      "B = [[4 6]\n",
      " [2 4]\n",
      " [2 2]\n",
      " [0 2]]\n",
      "\n",
      "C = [[0 0 0 1]\n",
      " [0 2 0 2]]\n",
      "\n",
      "D = [[ 0.  0.]\n",
      " [ 0.  0.]]\n",
      "\n"
     ]
    }
   ],
   "source": [
    "A = [[2.25,-5,   -1.25,-0.5],\n",
    "     [2.25,-4.25,-1.25,-0.25],\n",
    "     [0.25,-0.5, -1.25,-1],\n",
    "     [1.25,-1.75,-0.25,-0.75]]\n",
    "\n",
    "B = [[4,6],\n",
    "     [2,4],\n",
    "     [2,2],\n",
    "     [0,2]]\n",
    "\n",
    "C = [[0,0,0,1],\n",
    "     [0,2,0,2]]\n",
    "\n",
    "D = np.zeros((2,2))\n",
    "\n",
    "G = ss(A,B,C,D)\n",
    "\n",
    "print(G)"
   ]
  },
  {
   "cell_type": "markdown",
   "metadata": {},
   "source": [
    "**Characteristic polynomial of the system**"
   ]
  },
  {
   "cell_type": "code",
   "execution_count": 7,
   "metadata": {
    "collapsed": false
   },
   "outputs": [
    {
     "name": "stdout",
     "output_type": "stream",
     "text": [
      "[[ 2.25 -5.   -1.25 -0.5 ]\n",
      " [ 2.25 -4.25 -1.25 -0.25]\n",
      " [ 0.25 -0.5  -1.25 -1.  ]\n",
      " [ 1.25 -1.75 -0.25 -0.75]]\n"
     ]
    }
   ],
   "source": [
    "print(G.A)\n",
    "\n",
    "P = poly(G.A)"
   ]
  },
  {
   "cell_type": "code",
   "execution_count": 8,
   "metadata": {
    "collapsed": false
   },
   "outputs": [
    {
     "name": "stdout",
     "output_type": "stream",
     "text": [
      "[ 1.    4.    6.25  5.25  2.25]\n"
     ]
    }
   ],
   "source": [
    "print(P)"
   ]
  },
  {
   "cell_type": "markdown",
   "metadata": {},
   "source": [
    "$$P(s) = s^4+4s^3+6.25s^2+5.25s + 2.25$$"
   ]
  },
  {
   "cell_type": "markdown",
   "metadata": {},
   "source": [
    "# 2. Interconnected Block Diagrams\n",
    "\n",
    "\n",
    "series and parallel connections"
   ]
  },
  {
   "cell_type": "code",
   "execution_count": 9,
   "metadata": {
    "collapsed": true
   },
   "outputs": [],
   "source": [
    "#zpk does not exist in python"
   ]
  },
  {
   "cell_type": "markdown",
   "metadata": {},
   "source": [
    "## Feedback connection\n",
    "\n",
    "<img src = \"image_files\\feedback.png\" style=\"border:1px solid black\", width = 500>\n",
    "\n",
    "- positive feedback $$G(s) = G_1(s)[I-G_2(s)G_1(s)]^{-1}$$\n",
    "\n",
    "\n",
    "- negative feedback $$G(s) = G_1(s)[I+G_2(s)G_1(s)]^{-1}$$"
   ]
  },
  {
   "cell_type": "code",
   "execution_count": 10,
   "metadata": {
    "collapsed": false
   },
   "outputs": [
    {
     "name": "stdout",
     "output_type": "stream",
     "text": [
      "\n",
      "        s + 1\n",
      "---------------------\n",
      "s^3 + 3 s^2 + 3 s + 2\n",
      "\n",
      "\n",
      "      s + 1\n",
      "-----------------\n",
      "s^3 + 3 s^2 + 3 s\n",
      "\n"
     ]
    }
   ],
   "source": [
    "G1 = tf(1,[1,2,1])\n",
    "G2 = tf(1,[1,1])\n",
    "\n",
    "# negative feedback\n",
    "G3 = feedback(G1,G2,-1)\n",
    "print(G3)\n",
    "\n",
    "# positive feedback\n",
    "G4 = feedback(G1,G2,+1)\n",
    "print(G4)"
   ]
  },
  {
   "cell_type": "markdown",
   "metadata": {},
   "source": [
    "## More complicated connections\n",
    "\n",
    "<img src = \"image_files\\linear_feedback_structure.png\" style=\"border:1px solid black\" width = 500>\n",
    "\n",
    "$$G_{cl}(s) = \\frac{G(s)G_c(S)}{1+H(s)G(s)G_c(S)}$$"
   ]
  },
  {
   "cell_type": "code",
   "execution_count": 27,
   "metadata": {
    "collapsed": false
   },
   "outputs": [
    {
     "name": "stdout",
     "output_type": "stream",
     "text": [
      "\n",
      "     0.1 s^5 + 10.75 s^4 + 77.75 s^3 + 278.6 s^2 + 361.2 s + 120\n",
      "--------------------------------------------------------------------\n",
      "0.01 s^6 + 1.1 s^5 + 20.35 s^4 + 110.5 s^3 + 325.2 s^2 + 384 s + 120\n",
      "\n",
      "\n",
      "     0.1 s^5 + 10.75 s^4 + 77.75 s^3 + 278.6 s^2 + 361.2 s + 120\n",
      "--------------------------------------------------------------------\n",
      "0.01 s^6 + 1.1 s^5 + 20.35 s^4 + 110.5 s^3 + 325.2 s^2 + 384 s + 120\n",
      "\n"
     ]
    }
   ],
   "source": [
    "G = tf([1,7,24,24],[1,10,35,50,24])\n",
    "Gc = tf([10,5],[1,0])\n",
    "H = tf(1,[0.01,1])\n",
    "\n",
    "Gcl = feedback(Gc*G,H,-1)\n",
    "print(Gcl)\n",
    "\n",
    "G = ss(tf([1,7,24,24],[1,10,35,50,24]))\n",
    "G_a = feedback(Gc*G,H)\n",
    "print(G_a)"
   ]
  },
  {
   "cell_type": "markdown",
   "metadata": {},
   "source": [
    "# 3. Model Conversion \n",
    "\n",
    "## 3.1. from state space to transfer function"
   ]
  },
  {
   "cell_type": "code",
   "execution_count": 12,
   "metadata": {
    "collapsed": false
   },
   "outputs": [
    {
     "name": "stdout",
     "output_type": "stream",
     "text": [
      "A = [[ 0  1  0  0]\n",
      " [ 0  0 -1  0]\n",
      " [ 0  0  0  1]\n",
      " [ 0  0  5  0]]\n",
      "\n",
      "B = [[ 0]\n",
      " [ 1]\n",
      " [ 0]\n",
      " [-2]]\n",
      "\n",
      "C = [[1 0 0 0]]\n",
      "\n",
      "D = [[0]]\n",
      "\n",
      "\n",
      "  s^2 - 3\n",
      "-----------\n",
      "s^4 - 5 s^2\n",
      "\n"
     ]
    }
   ],
   "source": [
    "A = [[0,1, 0,0],\n",
    "     [0,0,-1,0],\n",
    "     [0,0, 0,1],\n",
    "     [0,0, 5,0]]\n",
    "B = np.array([[0,1,0,-2]]).T\n",
    "C = [1,0,0,0]\n",
    "D = 0\n",
    "\n",
    "Gss = ss(A,B,C,D)\n",
    "print(Gss)\n",
    "Gtf = tf(Gss)\n",
    "print(Gtf)"
   ]
  },
  {
   "cell_type": "markdown",
   "metadata": {},
   "source": [
    "## 3.2. from zpk to tf"
   ]
  },
  {
   "cell_type": "code",
   "execution_count": 13,
   "metadata": {
    "collapsed": true
   },
   "outputs": [],
   "source": [
    "#zpk does not exist in python"
   ]
  },
  {
   "cell_type": "markdown",
   "metadata": {},
   "source": [
    "## 3.3. from ss to zpk"
   ]
  },
  {
   "cell_type": "code",
   "execution_count": 14,
   "metadata": {
    "collapsed": true
   },
   "outputs": [],
   "source": [
    "#zpk does not exist in python"
   ]
  },
  {
   "cell_type": "markdown",
   "metadata": {},
   "source": [
    "## 3.4. from tf to zpk"
   ]
  },
  {
   "cell_type": "code",
   "execution_count": 15,
   "metadata": {
    "collapsed": true
   },
   "outputs": [],
   "source": [
    "#zpk does not exist in python"
   ]
  },
  {
   "cell_type": "markdown",
   "metadata": {},
   "source": [
    "## 3.5. Similarity Transformation of State Space Model\n",
    "ss2ss\n",
    "\n",
    "\\begin{align*}\n",
    "\\dot{x}(t) & = Ax(t) + Bu(t)\\\\\n",
    "y(t) & = Cx(t) + Du(t) \\\\\n",
    "z & = Tx \\\\\n",
    "\\dot{z}(t) & = TAT^{-1}z(t) + TBu(t)\\\\\n",
    "y(t) & = CT^{-1}z(t) + Du(t)\n",
    "\\end{align*}"
   ]
  },
  {
   "cell_type": "code",
   "execution_count": 16,
   "metadata": {
    "collapsed": false
   },
   "outputs": [],
   "source": [
    "#ss2ss does not exist in python"
   ]
  },
  {
   "cell_type": "markdown",
   "metadata": {},
   "source": [
    "# 4. Time Response of LTI\n",
    "\n",
    "## 4.1. Step response\n",
    "\n",
    "$$G(s) = \\frac{\\omega_{n}^{2}}{s^2+2\\zeta \\omega_{n}s + \\omega_{n}^{2}}$$"
   ]
  },
  {
   "cell_type": "code",
   "execution_count": 17,
   "metadata": {
    "collapsed": false
   },
   "outputs": [
    {
     "data": {
      "image/png": "[encoded data removed]",
      "text/plain": [
       "<matplotlib.figure.Figure at 0x3f68a58>"
      ]
     },
     "metadata": {},
     "output_type": "display_data"
    },
    {
     "name": "stdout",
     "output_type": "stream",
     "text": [
      "\n",
      "       4\n",
      "---------------\n",
      "s^2 + 1.6 s + 4\n",
      "\n"
     ]
    }
   ],
   "source": [
    "eps = np.finfo(float).eps\n",
    "\n",
    "def pltshow(wn, zet):\n",
    "    t = np.arange(0.0,12.0,0.1)\n",
    "    G = tf(wn**2,[1, 2*zet*wn,wn**2])\n",
    "    \n",
    "    [y,tout] = step(G,t)\n",
    "    \n",
    "    plt.plot(tout,y)\n",
    "    plt.plot(tout,np.ones(tout.shape),'k--')\n",
    "    plt.ylim([0,2.0])\n",
    "    plt.title('step response')\n",
    "    plt.xlabel('t')\n",
    "    \n",
    "    plt.show()\n",
    "    \n",
    "    print (G)\n",
    "    \n",
    "interact(pltshow, wn=(0.1,4.0,0.1), zet=(0.0,1.0,0.1))\n",
    "plt.show()"
   ]
  },
  {
   "cell_type": "markdown",
   "metadata": {},
   "source": [
    "## 4.2. Impluse response"
   ]
  },
  {
   "cell_type": "code",
   "execution_count": 18,
   "metadata": {
    "collapsed": false
   },
   "outputs": [
    {
     "data": {
      "image/png": "[encoded data removed]",
      "text/plain": [
       "<matplotlib.figure.Figure at 0x3fbe1d0>"
      ]
     },
     "metadata": {},
     "output_type": "display_data"
    }
   ],
   "source": [
    "G = tf([10,20],[10,23,26,23,10])\n",
    "\n",
    "[y,tout] = impulse(G,np.arange(0.0,30.0,0.1))\n",
    "\n",
    "plt.plot(tout,y)\n",
    "plt.plot(tout,np.zeros(tout.shape),'--')\n",
    "plt.axis('tight')\n",
    "plt.title('impulse response')\n",
    "plt.xlabel('t')\n",
    "\n",
    "plt.show()"
   ]
  },
  {
   "cell_type": "markdown",
   "metadata": {},
   "source": [
    "## 4.3. General response using `lsim`"
   ]
  },
  {
   "cell_type": "code",
   "execution_count": 19,
   "metadata": {
    "collapsed": false
   },
   "outputs": [
    {
     "data": {
      "image/png": "[encoded data removed]",
      "text/plain": [
       "<matplotlib.figure.Figure at 0x18b23160>"
      ]
     },
     "metadata": {},
     "output_type": "display_data"
    }
   ],
   "source": [
    "A = [[-20,-40,-60],\n",
    "     [1,    0,  0],\n",
    "     [0,    1,  0]]\n",
    "B = [[1],[0],[0]]\n",
    "C = [0,0,1]\n",
    "D = 0\n",
    "\n",
    "sys = ss(A,B,C,D)     # construct a system model\n",
    "\n",
    "t = np.arange(0.0,10.0,0.01) # simulation time = 10 seconds\n",
    "u = np.zeros(t.shape)          # no input\n",
    "X0 = [0.1,0.1,0.1]           # initial conditions of the three states\n",
    "\n",
    "[y,tout,non] = lsim(sys,u,t,X0)    # simulate and plot the response (the output)\n",
    "\n",
    "plt.plot(tout,y)\n",
    "plt.plot(tout,np.zeros(tout.shape),'--')\n",
    "plt.axis('tight')\n",
    "plt.xlabel('t')\n",
    "plt.title('Response to Non-Zero Initial Conditions and no Input')\n",
    "\n",
    "plt.show()"
   ]
  },
  {
   "cell_type": "code",
   "execution_count": 20,
   "metadata": {
    "collapsed": false
   },
   "outputs": [
    {
     "data": {
      "image/png": "[encoded data removed]",
      "text/plain": [
       "<matplotlib.figure.Figure at 0x18b199b0>"
      ]
     },
     "metadata": {},
     "output_type": "display_data"
    }
   ],
   "source": [
    "def pltshow(wn):\n",
    "    t = np.arange(0.0,10.0,0.01) # simulation time = 10 seconds\n",
    "    u = 10*sin(wn*t+1)            # input as a function of time\n",
    "\n",
    "    [y,tout,non] = lsim(sys,u,t) # simulate\n",
    "\n",
    "    plt.plot(tout,y)\n",
    "    plt.axis('tight')\n",
    "    plt.xlabel('t')\n",
    "    plt.title('Response to a Sinusoid Input with Zero Initial Conditions')\n",
    "\n",
    "    plt.show()\n",
    "\n",
    "interact(pltshow, wn=(0.1,10.0,0.1))\n",
    "plt.show()"
   ]
  },
  {
   "cell_type": "markdown",
   "metadata": {},
   "source": [
    "# 5. Frequency\n",
    "- from [umich control](http://ctms.engin.umich.edu/CTMS/index.php?example=Introduction&section=SystemAnalysis)"
   ]
  },
  {
   "cell_type": "code",
   "execution_count": 21,
   "metadata": {
    "collapsed": false
   },
   "outputs": [],
   "source": [
    "# freqs: Laplace-transform (s-domain) frequency response\n",
    "\n",
    "a = [1,0.4,1]      # Numerator coefficients\n",
    "b = [0.2,0.3,1]    # Denominator coefficients\n",
    "G = tf(b,a)\n",
    "\n",
    "w = logspace(-1,1)  # Frequency vector\n",
    "[mag,phase,omega] = matlab.freqresp(G,w)"
   ]
  },
  {
   "cell_type": "code",
   "execution_count": 22,
   "metadata": {
    "collapsed": false
   },
   "outputs": [
    {
     "data": {
      "image/png": "[encoded data removed]",
      "text/plain": [
       "<matplotlib.figure.Figure at 0x18d1feb8>"
      ]
     },
     "metadata": {},
     "output_type": "display_data"
    },
    {
     "data": {
      "image/png": "[encoded data removed]",
      "text/plain": [
       "<matplotlib.figure.Figure at 0x18d79f98>"
      ]
     },
     "metadata": {},
     "output_type": "display_data"
    }
   ],
   "source": [
    "plt.plot(omega,mag[0][0])\n",
    "plt.grid(True)\n",
    "\n",
    "plt.show()\n",
    "\n",
    "plt.plot(omega,phase[0][0])\n",
    "plt.grid(True)\n",
    "\n",
    "plt.show()"
   ]
  },
  {
   "cell_type": "markdown",
   "metadata": {},
   "source": [
    "## 5.1. Bode plot\n",
    "- Good reference from Mathworks\n",
    "    - [understanding Bode plots](https://www.youtube.com/playlist?list=PLn8PRpmsu08poVEWzpqKXpj_c7aSwVDdm \"youtube\")\n",
    "    - [using Bode plots](https://www.youtube.com/playlist?list=PLn8PRpmsu08qbUh-mLHxDYAW8ClPdE1H6 \"youtube\")\n",
    "\n",
    "- [A serise of Bode plot lectures by Brian Douglas](https://www.youtube.com/watch?v=_eh1conN6YM&index=9&list=PLUMWjy5jgHK1NC52DXXrriwihVrYZKqjk \"youtube\")\n",
    "\n",
    "$$G(s) = \\frac{\\omega_{n}^{2}}{s^2+2\\zeta \\omega_{n}s + \\omega_{n}^{2}}$$"
   ]
  },
  {
   "cell_type": "code",
   "execution_count": 23,
   "metadata": {
    "collapsed": false
   },
   "outputs": [
    {
     "data": {
      "image/png": "[encoded data removed]",
      "text/plain": [
       "<matplotlib.figure.Figure at 0x18d1f0f0>"
      ]
     },
     "metadata": {},
     "output_type": "display_data"
    }
   ],
   "source": [
    "w_n = 10\n",
    "zeta = 0.2\n",
    "\n",
    "G1 = tf(w_n**2,[1,2*zeta*w_n,w_n**2])\n",
    "\n",
    "bode(G1)\n",
    "plt.show()"
   ]
  },
  {
   "cell_type": "code",
   "execution_count": 24,
   "metadata": {
    "collapsed": false
   },
   "outputs": [
    {
     "data": {
      "image/png": "[encoded data removed]",
      "text/plain": [
       "<matplotlib.figure.Figure at 0x18def710>"
      ]
     },
     "metadata": {},
     "output_type": "display_data"
    }
   ],
   "source": [
    "wn = 0.0\n",
    "zet= 0.0\n",
    "\n",
    "def pltshow(w_n, zeta):\n",
    "    global wn\n",
    "    global zet\n",
    "    wn = w_n\n",
    "    zet= zeta\n",
    "    \n",
    "    G1 = tf(w_n**2,[1,2*zeta*w_n,w_n**2])\n",
    "\n",
    "    plt.subplot(1,2,1)\n",
    "    pzmap.pzmap(G1)\n",
    "    plt.axis([-10,1,-23,23])\n",
    "    plt.subplot(1,2,2)\n",
    "\n",
    "    [y,tout] = step(G1)\n",
    "\n",
    "    plt.plot(tout, y)\n",
    "    plt.plot(tout, np.ones(tout.shape), '--')\n",
    "    plt.axis('tight')\n",
    "    plt.ylim([0,2])\n",
    "    plt.title('Step Response')\n",
    "    plt.ylabel('Amplitude')\n",
    "\n",
    "    plt.show()\n",
    "\n",
    "interact(pltshow, w_n=(5.0,15.0), zeta=(0.0,1.2))\n",
    "plt.show()"
   ]
  },
  {
   "cell_type": "code",
   "execution_count": 25,
   "metadata": {
    "collapsed": false
   },
   "outputs": [
    {
     "data": {
      "image/png": "[encoded data removed]",
      "text/plain": [
       "<matplotlib.figure.Figure at 0x1f4be5f8>"
      ]
     },
     "metadata": {},
     "output_type": "display_data"
    }
   ],
   "source": [
    "G1 = tf(wn**2,[1,2*zet*wn,wn**2])\n",
    "\n",
    "bode(G1)\n",
    "plt.show()"
   ]
  },
  {
   "cell_type": "code",
   "execution_count": 26,
   "metadata": {
    "collapsed": false
   },
   "outputs": [
    {
     "data": {
      "application/javascript": [
       "$.getScript('https://kmahelona.github.io/ipython_notebook_goodies/ipython_notebook_toc.js')"
      ],
      "text/plain": [
       "<IPython.core.display.Javascript object>"
      ]
     },
     "metadata": {},
     "output_type": "display_data"
    }
   ],
   "source": [
    "%%javascript\n",
    "$.getScript('https://kmahelona.github.io/ipython_notebook_goodies/ipython_notebook_toc.js')"
   ]
  }
 ],
 "metadata": {
  "anaconda-cloud": {},
  "kernelspec": {
   "display_name": "Python 2",
   "language": "python",
   "name": "python2"
  },
  "language_info": {
   "codemirror_mode": {
    "name": "ipython",
    "version": 2
   },
   "file_extension": ".py",
   "mimetype": "text/x-python",
   "name": "python",
   "nbconvert_exporter": "python",
   "pygments_lexer": "ipython2",
   "version": "2.7.11"
  }
 },
 "nbformat": 4,
 "nbformat_minor": 0
}
