{
 "cells": [
  {
   "cell_type": "markdown",
   "metadata": {},
   "source": [
    "<br><br>\n",
    "<font size = '6'><b>Control with Matlab</b></font>\n",
    "\n",
    "<table style=\"border-style: hidden; border-collapse: collapse;\" width = \"80%\"> \n",
    "    <tr style=\"border-style: hidden; border-collapse: collapse;\">\n",
    "        <td width = 50% style=\"border-style: hidden; border-collapse: collapse;\">\n",
    "             \n",
    "        </td>\n",
    "        <td width = 30%>\n",
    "            Prof. Seungchul Lee<br>iSystems (http://isystems.unist.ac.kr/)<br>UNIST\n",
    "        </td>\n",
    "    </tr>\n",
    "</table>\n",
    "\n",
    "\n",
    "Table of Contents\n",
    "<div id=\"toc\"></div>"
   ]
  },
  {
   "cell_type": "markdown",
   "metadata": {},
   "source": [
    "# 1. PID Control\n",
    "\n",
    "- 1.5 Control Design Basics | Control of Mobile Robots"
   ]
  },
  {
   "cell_type": "code",
   "execution_count": 1,
   "metadata": {
    "collapsed": false
   },
   "outputs": [
    {
     "data": {
      "text/html": [
       "<center><iframe src=\"https://www.youtube.com/embed/DJuo9kLdr4M?list=PLp8ijpvp8iCvFDYdcXqqYU5Ibl_aOqwjr\" \n",
       "width=\"560\" height=\"315\" frameborder=\"0\" allowfullscreen></iframe></center>"
      ],
      "text/plain": [
       "<IPython.core.display.HTML object>"
      ]
     },
     "metadata": {},
     "output_type": "display_data"
    }
   ],
   "source": [
    "%%html\n",
    "<center><iframe src=\"https://www.youtube.com/embed/DJuo9kLdr4M?list=PLp8ijpvp8iCvFDYdcXqqYU5Ibl_aOqwjr\" \n",
    "width=\"560\" height=\"315\" frameborder=\"0\" allowfullscreen></iframe></center>"
   ]
  },
  {
   "cell_type": "markdown",
   "metadata": {},
   "source": [
    "For the given car model\n",
    "\n",
    "$$ \\dot{x} = \\frac{c}{m}u \\quad \\text{for the velocity of a car,} \\,\\, x $$\n",
    "\n",
    "In a bloack diagram\n",
    "\n",
    "<img src=\"./image_files/car_model.png\" width=300/>\n",
    "\n",
    "in a Laplace transform\n",
    "<img src=\"./image_files/car_model_Laplace.png\" width=300/>\n",
    "\n",
    "We want to achieve\n",
    "$$ x \\rightarrow r \\quad \\text{as} \\quad t \\rightarrow \\infty \\,\\,(e=r-x \\rightarrow 0) $$"
   ]
  },
  {
   "cell_type": "markdown",
   "metadata": {},
   "source": [
    "## Attempt 2: P Regulator\n",
    "\n",
    "$$u = ke$$\n",
    "\n",
    "- small error yeilds small control signals\n",
    "\n",
    "- nice and smooth\n",
    "\n",
    "- so-called proportional regulation (P regulator)\n",
    "\n",
    "<img src=\"./image_files/car_model_Kp.png\" width=400/>"
   ]
  },
  {
   "cell_type": "code",
   "execution_count": 2,
   "metadata": {
    "collapsed": false
   },
   "outputs": [
    {
     "data": {
      "image/png": "[encoded data removed]",
      "text/plain": [
       "<IPython.core.display.Image object>"
      ]
     },
     "metadata": {},
     "output_type": "display_data"
    },
    {
     "data": {},
     "execution_count": 2,
     "metadata": {},
     "output_type": "execute_result"
    }
   ],
   "source": [
    "c = 1;\n",
    "m = 1;\n",
    "\n",
    "G = tf(c/m,[1 0]);\n",
    "\n",
    "k = 5;\n",
    "C = k;\n",
    "\n",
    "Gcl = feedback(C*G,1,-1);\n",
    "\n",
    "t = linspace(0,5,100);\n",
    "r = 70*ones(size(t));   % reference\n",
    "\n",
    "x0 = 0;\n",
    "[y,tout] = lsim(Gcl,r,t,x0);\n",
    "plot(tout,y), xlabel('t'), ylim([0,75])"
   ]
  },
  {
   "cell_type": "markdown",
   "metadata": {},
   "source": [
    "## What if the true system is:\n",
    "\n",
    "$$ \n",
    "\\dot{x} = \\frac{c}{m}u - \\gamma x$$\n",
    "\n",
    "<br>\n",
    "<img src=\"./image_files/true_car_Kp.png\" width=400/>"
   ]
  },
  {
   "cell_type": "code",
   "execution_count": 3,
   "metadata": {
    "collapsed": false
   },
   "outputs": [
    {
     "data": {
      "image/png": "[encoded data removed]",
      "text/plain": [
       "<IPython.core.display.Image object>"
      ]
     },
     "metadata": {},
     "output_type": "display_data"
    },
    {
     "data": {},
     "execution_count": 3,
     "metadata": {},
     "output_type": "execute_result"
    }
   ],
   "source": [
    "gamma = 1;\n",
    "Gtr = tf(c/m,[1 gamma]);\n",
    "C = k;\n",
    "\n",
    "Gcl = feedback(C*Gtr,1,-1);\n",
    "\n",
    "x0 = 0;\n",
    "t = linspace(0,5,100);\n",
    "r = 70*ones(size(t));\n",
    "[y,tout] = lsim(Gcl,r,t,x0);\n",
    "plot(tout,y), xlabel('t'), ylim([0,75])"
   ]
  },
  {
   "cell_type": "markdown",
   "metadata": {},
   "source": [
    "## Attempt 3\n",
    "- 1.6 Performance Objectives | Control of Mobile Robots\n",
    "\n",
    "- 1.7 PID Control | Control of Mobile Robots"
   ]
  },
  {
   "cell_type": "code",
   "execution_count": 2,
   "metadata": {
    "collapsed": false
   },
   "outputs": [
    {
     "data": {
      "text/html": [
       "<center><iframe src=\"https://www.youtube.com/embed/cQhqx65kLfM?list=PLp8ijpvp8iCvFDYdcXqqYU5Ibl_aOqwjr\" \n",
       "width=\"560\" height=\"315\" frameborder=\"0\" allowfullscreen></iframe></center>"
      ],
      "text/plain": [
       "<IPython.core.display.HTML object>"
      ]
     },
     "metadata": {},
     "output_type": "display_data"
    }
   ],
   "source": [
    "%%html\n",
    "<center><iframe src=\"https://www.youtube.com/embed/cQhqx65kLfM?list=PLp8ijpvp8iCvFDYdcXqqYU5Ibl_aOqwjr\" \n",
    "width=\"560\" height=\"315\" frameborder=\"0\" allowfullscreen></iframe></center>"
   ]
  },
  {
   "cell_type": "code",
   "execution_count": 3,
   "metadata": {
    "collapsed": false
   },
   "outputs": [
    {
     "data": {
      "text/html": [
       "<center><iframe src=\"https://www.youtube.com/embed/Mk1ygHj4zxw?list=PLp8ijpvp8iCvFDYdcXqqYU5Ibl_aOqwjr\" \n",
       "width=\"560\" height=\"315\" frameborder=\"0\" allowfullscreen></iframe></center>"
      ],
      "text/plain": [
       "<IPython.core.display.HTML object>"
      ]
     },
     "metadata": {},
     "output_type": "display_data"
    }
   ],
   "source": [
    "%%html\n",
    "<center><iframe src=\"https://www.youtube.com/embed/Mk1ygHj4zxw?list=PLp8ijpvp8iCvFDYdcXqqYU5Ibl_aOqwjr\" \n",
    "width=\"560\" height=\"315\" frameborder=\"0\" allowfullscreen></iframe></center>"
   ]
  },
  {
   "cell_type": "markdown",
   "metadata": {},
   "source": [
    "$$u = ke + \\gamma \\frac{m}{c}x$$\n",
    "\n",
    "However, all of sudden we have to know all these physical parameters that we typically do not know - not robust !!!\n",
    "\n",
    "## Attempt 4: PI Regulators\n",
    "- Stability (BIBO)\n",
    "- Tracking\n",
    "- Robustness\n",
    "\n",
    "$$ u(t) = k_P \\, e(t) + k_I \\int_0^t e(\\tau)d\\tau $$\n",
    "\n",
    "<img src=\"./image_files/true_car_Kp_Ki.png\" width=400/>"
   ]
  },
  {
   "cell_type": "code",
   "execution_count": 6,
   "metadata": {
    "collapsed": false
   },
   "outputs": [
    {
     "data": {
      "image/png": "[encoded data removed]",
      "text/plain": [
       "<IPython.core.display.Image object>"
      ]
     },
     "metadata": {},
     "output_type": "display_data"
    },
    {
     "data": {},
     "execution_count": 6,
     "metadata": {},
     "output_type": "execute_result"
    }
   ],
   "source": [
    "Gtr = tf(c/m,[1 gamma]);\n",
    "kP = 5;\n",
    "kI = 5;\n",
    "C = tf([kP kI],[1 0]);\n",
    "\n",
    "Gcl = feedback(C*Gtr,1,-1);\n",
    "\n",
    "x0 = 0;\n",
    "t = linspace(0,5,100);\n",
    "r = 70*ones(size(t));\n",
    "[y,tout] = lsim(Gcl,r,t,x0);\n",
    "plot(tout,y), xlabel('t'), ylim([0,75])"
   ]
  },
  {
   "cell_type": "markdown",
   "metadata": {},
   "source": [
    "---\n",
    "# 2. Root Locus\n",
    "- The Root Locus Method by Brian Douglas\n",
    "\n",
    "- from [umich control](http://ctms.engin.umich.edu/CTMS/index.php?example=Introduction&section=ControlRootLocus)"
   ]
  },
  {
   "cell_type": "code",
   "execution_count": 4,
   "metadata": {
    "collapsed": false
   },
   "outputs": [
    {
     "data": {
      "text/html": [
       "<center><iframe src=\"https://www.youtube.com/embed/CRvVDoQJjYI?list=PLUMWjy5jgHK1NC52DXXrriwihVrYZKqjk\" \n",
       "width=\"560\" height=\"315\" frameborder=\"0\" allowfullscreen></iframe></center>"
      ],
      "text/plain": [
       "<IPython.core.display.HTML object>"
      ]
     },
     "metadata": {},
     "output_type": "display_data"
    }
   ],
   "source": [
    "%%html\n",
    "<center><iframe src=\"https://www.youtube.com/embed/CRvVDoQJjYI?list=PLUMWjy5jgHK1NC52DXXrriwihVrYZKqjk\" \n",
    "width=\"560\" height=\"315\" frameborder=\"0\" allowfullscreen></iframe></center>"
   ]
  },
  {
   "cell_type": "markdown",
   "metadata": {},
   "source": [
    "<img src = \"./image_files/RootLocusTutorial_ClosedLoopPoles_BlockDiagram.png\" , width = 500>"
   ]
  },
  {
   "cell_type": "code",
   "execution_count": 8,
   "metadata": {
    "collapsed": false
   },
   "outputs": [
    {
     "data": {
      "image/png": "[encoded data removed]",
      "text/plain": [
       "<IPython.core.display.Image object>"
      ]
     },
     "metadata": {},
     "output_type": "display_data"
    },
    {
     "data": {},
     "execution_count": 8,
     "metadata": {},
     "output_type": "execute_result"
    }
   ],
   "source": [
    "s = tf('s');\n",
    "sys = (s + 7)/(s*(s + 5)*(s + 15)*(s + 20));\n",
    "[y,tout] = step(sys); % unstable\n",
    "plot(tout,y), axis tight, xlabel('t'), title('unstable step response')"
   ]
  },
  {
   "cell_type": "code",
   "execution_count": 9,
   "metadata": {
    "collapsed": false
   },
   "outputs": [
    {
     "data": {
      "text/plain": [
       "ans =\r\n",
       "\r\n",
       "         0\r\n",
       "  -20.0000\r\n",
       "  -15.0000\r\n",
       "   -5.0000"
      ]
     },
     "execution_count": 9,
     "metadata": {},
     "output_type": "execute_result"
    }
   ],
   "source": [
    "pole(sys)\n",
    "G = sys;"
   ]
  },
  {
   "cell_type": "code",
   "execution_count": 10,
   "metadata": {
    "collapsed": false
   },
   "outputs": [
    {
     "data": {
      "image/png": "[encoded data removed]",
      "text/plain": [
       "<IPython.core.display.Image object>"
      ]
     },
     "metadata": {},
     "output_type": "display_data"
    },
    {
     "data": {
      "text/plain": [
       "k =\r\n",
       "\r\n",
       "   800\r\n",
       "\r\n",
       "\r\n",
       "Gcl =\r\n",
       " \r\n",
       "               800 s + 5600\r\n",
       "  --------------------------------------\r\n",
       "  s^4 + 40 s^3 + 475 s^2 + 2300 s + 5600\r\n",
       " \r\n",
       "Continuous-time transfer function.\r\n",
       "\r\n",
       "\r\n",
       "ans =\r\n",
       "\r\n",
       " -23.5466 + 0.0000i\r\n",
       " -10.1226 + 0.0000i\r\n",
       "  -3.1654 + 3.6708i\r\n",
       "  -3.1654 - 3.6708i"
      ]
     },
     "execution_count": 10,
     "metadata": {},
     "output_type": "execute_result"
    }
   ],
   "source": [
    "%k = 10;\n",
    "k = 800\n",
    "\n",
    "Gcl = feedback(k*G,1,-1)\n",
    "pole(Gcl)\n",
    "[y,tout] = step(Gcl);\n",
    "plot(tout,y,tout,ones(size(tout)),'k--'), axis tight, ylim([0,1.2])"
   ]
  },
  {
   "cell_type": "code",
   "execution_count": 11,
   "metadata": {
    "collapsed": false
   },
   "outputs": [
    {
     "data": {
      "image/png": "[encoded data removed]",
      "text/plain": [
       "<IPython.core.display.Image object>"
      ]
     },
     "metadata": {},
     "output_type": "display_data"
    },
    {
     "data": {},
     "execution_count": 11,
     "metadata": {},
     "output_type": "execute_result"
    }
   ],
   "source": [
    "rlocus(G), grid"
   ]
  },
  {
   "cell_type": "code",
   "execution_count": 12,
   "metadata": {
    "collapsed": false
   },
   "outputs": [
    {
     "data": {
      "text/plain": [
       "RLOCUS  Evans root locus.\r\n",
       " \r\n",
       "    RLOCUS(SYS) computes and plots the root locus of the single-input,\r\n",
       "    single-output LTI model SYS. The root locus plot is used to analyze \r\n",
       "    the negative feedback loop\r\n",
       " \r\n",
       "                      +-----+\r\n",
       "          ---->O----->| SYS |----+---->\r\n",
       "              -|      +-----+    |\r\n",
       "               |                 |\r\n",
       "               |       +---+     |\r\n",
       "               +-------| K |<----+\r\n",
       "                       +---+\r\n",
       " \r\n",
       "    and shows the trajectories of the closed-loop poles when the feedback \r\n",
       "    gain K varies from 0 to Inf.  RLOCUS automatically generates a set of \r\n",
       "    positive gain values that produce a smooth plot.  \r\n",
       " \r\n",
       "    RLOCUS(SYS,K) uses a user-specified vector K of gain values.\r\n",
       " \r\n",
       "    RLOCUS(SYS1,SYS2,...) draws the root loci of several models SYS1,SYS2,... \r\n",
       "    on a single plot. You can specify a color, line style, and marker for \r\n",
       "    each model, for example:\r\n",
       "       rlocus(sys1,'r',sys2,'y:',sys3,'gx').\r\n",
       " \r\n",
       "    [R,K] = RLOCUS(SYS) or R = RLOCUS(SYS,K) returns the matrix R of\r\n",
       "    complex root locations for the gains K.  R has LENGTH(K) columns\r\n",
       "    and its j-th column lists the closed-loop roots for the gain K(j).  \r\n",
       "  \r\n",
       "    See RLOCUSPLOT for additional graphical options for root locus plots.\r\n",
       " \r\n",
       "    See also RLOCUSPLOT, SISOTOOL, POLE, ISSISO, LTI.\r\n",
       "\r\n",
       "    Overloaded methods:\r\n",
       "       DynamicSystem/rlocus\r\n",
       "       resppack.ltisource/rlocus\r\n",
       "\r\n",
       "    Reference page in Help browser\r\n",
       "       doc rlocus"
      ]
     },
     "execution_count": 12,
     "metadata": {},
     "output_type": "execute_result"
    }
   ],
   "source": [
    "help rlocus"
   ]
  },
  {
   "cell_type": "code",
   "execution_count": 13,
   "metadata": {
    "collapsed": false
   },
   "outputs": [
    {
     "data": {
      "image/png": "[encoded data removed]",
      "text/plain": [
       "<IPython.core.display.Image object>"
      ]
     },
     "metadata": {},
     "output_type": "display_data"
    },
    {
     "data": {
      "text/plain": [
       "sys_cl =\r\n",
       " \r\n",
       "               350 s + 2450\r\n",
       "  --------------------------------------\r\n",
       "  s^4 + 40 s^3 + 475 s^2 + 1850 s + 2450\r\n",
       " \r\n",
       "Continuous-time transfer function."
      ]
     },
     "execution_count": 13,
     "metadata": {},
     "output_type": "execute_result"
    }
   ],
   "source": [
    "K = 350;\n",
    "sys_cl = feedback(K*sys,1,-1) % negative feedback\n",
    "\n",
    "pzmap(sys_cl)"
   ]
  },
  {
   "cell_type": "code",
   "execution_count": 14,
   "metadata": {
    "collapsed": false
   },
   "outputs": [
    {
     "data": {
      "image/png": "[encoded data removed]",
      "text/plain": [
       "<IPython.core.display.Image object>"
      ]
     },
     "metadata": {},
     "output_type": "display_data"
    },
    {
     "data": {},
     "execution_count": 14,
     "metadata": {},
     "output_type": "execute_result"
    }
   ],
   "source": [
    "[y,tout] = step(sys_cl); \n",
    "plot(tout,y,tout,ones(size(tout)),'k--'), \n",
    "axis tight, ylim([0,1.2]), xlabel('t'), title('step response')"
   ]
  },
  {
   "cell_type": "markdown",
   "metadata": {
    "collapsed": true
   },
   "source": [
    "# 3. State Space Representation\n",
    "\n",
    "- from 3.1 A Simple Robot | Control of Mobile Robots\n",
    "\n",
    "- from 3.2 State Space Models | Control of Mobile Robots"
   ]
  },
  {
   "cell_type": "code",
   "execution_count": 5,
   "metadata": {
    "collapsed": false
   },
   "outputs": [
    {
     "data": {
      "text/html": [
       "<center><iframe src=\"https://www.youtube.com/embed/kQNUpNh6nBc?list=PLp8ijpvp8iCvFDYdcXqqYU5Ibl_aOqwjr\" \n",
       "width=\"560\" height=\"315\" frameborder=\"0\" allowfullscreen></iframe></center>"
      ],
      "text/plain": [
       "<IPython.core.display.HTML object>"
      ]
     },
     "metadata": {},
     "output_type": "display_data"
    }
   ],
   "source": [
    "%%html\n",
    "<center><iframe src=\"https://www.youtube.com/embed/kQNUpNh6nBc?list=PLp8ijpvp8iCvFDYdcXqqYU5Ibl_aOqwjr\" \n",
    "width=\"560\" height=\"315\" frameborder=\"0\" allowfullscreen></iframe></center>"
   ]
  },
  {
   "cell_type": "code",
   "execution_count": 6,
   "metadata": {
    "collapsed": false
   },
   "outputs": [
    {
     "data": {
      "text/html": [
       "<center><iframe src=\"https://www.youtube.com/embed/W6AUOyj5bFA?list=PLp8ijpvp8iCvFDYdcXqqYU5Ibl_aOqwjr\" \n",
       "width=\"560\" height=\"315\" frameborder=\"0\" allowfullscreen></iframe></center>"
      ],
      "text/plain": [
       "<IPython.core.display.HTML object>"
      ]
     },
     "metadata": {},
     "output_type": "display_data"
    }
   ],
   "source": [
    "%%html\n",
    "<center><iframe src=\"https://www.youtube.com/embed/W6AUOyj5bFA?list=PLp8ijpvp8iCvFDYdcXqqYU5Ibl_aOqwjr\" \n",
    "width=\"560\" height=\"315\" frameborder=\"0\" allowfullscreen></iframe></center>"
   ]
  },
  {
   "cell_type": "markdown",
   "metadata": {},
   "source": [
    "__Controlling a point mass__\n",
    "\n",
    "Given a point mass on a line whose acceleration is directly controlled:\n",
    "$$ \\ddot{p} = u $$\n",
    "\n",
    "want to write this on a compact/general form\n",
    "\n",
    "$$\n",
    "\\begin{align*}\n",
    "\\dot{x}_1 &= x_2\\\\\n",
    "\\dot{x}_2 &= u\\\\\n",
    "\\end{align*}\n",
    "$$\n",
    "\n",
    "on a state space form\n",
    "\n",
    "$$\n",
    "\\begin{align*}\n",
    "\\dot{x} &= \n",
    "\\left[ {\\begin{matrix}\n",
    "   \\dot{x}_1 \\\\\n",
    "   \\dot{x}_2 \\\\   \n",
    "  \\end{matrix} } \\right] =\n",
    "\\left[ {\\begin{matrix}\n",
    "   0 & 1 \\\\\n",
    "   0 & 0 \\\\   \n",
    "  \\end{matrix} } \\right]\n",
    "\\left[ {\\begin{array}{cc}\n",
    "   x_1 \\\\\n",
    "   x_2 \\\\   \n",
    "\\end{array} } \\right] +\n",
    "\\left[ {\\begin{array}{cc}\n",
    "   0 \\\\\n",
    "   1 \\\\   \n",
    "\\end{array} } \\right]u\\\\\n",
    "\\\\y & = p=x_1=\n",
    "\\left[ {\\begin{matrix}\n",
    "   1 & 0    \n",
    "\\end{matrix} } \\right]  \n",
    "\\left[ {\\begin{array}{cc}\n",
    "   x_1 \\\\\n",
    "   x_2 \\\\   \n",
    "\\end{array} } \\right]  \n",
    "\\end{align*}\n",
    "$$\n",
    "\n",
    "<img src=\"./image_files/ss_diag.png\" width=400/>\n",
    "\n",
    "## 3.1. The car model\n",
    "\n",
    "If we care about/can measure the velocity:\n",
    "\n",
    "$$ A = -\\gamma, \\qquad B = \\frac{c}{m}, \\qquad C = 1    $$\n",
    "\n",
    "If we care about/can measure the position we have the same general equation with different matrices:\n",
    "\n",
    "\n",
    "$$\n",
    "A = \n",
    "\\left[ {\\begin{matrix}\n",
    "   0 & 1 \\\\\n",
    "   0 & -\\gamma \\\\   \n",
    "\\end{matrix} } \\right], \\qquad\n",
    "B = \n",
    "\\left[ {\\begin{matrix}\n",
    "   0 \\\\\n",
    "   \\frac{c}{m} \\\\   \n",
    "\\end{matrix} } \\right], \\qquad\n",
    "C = \\left[ {\\begin{matrix}\n",
    "   1 \\quad 0 \\\\     \n",
    "\\end{matrix} } \\right]\n",
    "$$"
   ]
  },
  {
   "cell_type": "code",
   "execution_count": 17,
   "metadata": {
    "collapsed": false
   },
   "outputs": [
    {
     "data": {
      "image/png": "[encoded data removed]",
      "text/plain": [
       "<IPython.core.display.Image object>"
      ]
     },
     "metadata": {},
     "output_type": "display_data"
    },
    {
     "data": {},
     "execution_count": 17,
     "metadata": {},
     "output_type": "execute_result"
    }
   ],
   "source": [
    "% system in ss\n",
    "c = 1;\n",
    "m = 1;\n",
    "gamma = 1;\n",
    "\n",
    "A = -gamma;\n",
    "B = c/m;\n",
    "C = 1;\n",
    "D = 0;\n",
    "\n",
    "Gss = ss(A,B,C,D);\n",
    "\n",
    "% P controller\n",
    "k = 5;\n",
    "C = k;\n",
    "\n",
    "% close loop\n",
    "Gcl = feedback(C*Gss,1,-1);\n",
    "\n",
    "x0 = 0;\n",
    "t = linspace(0,5,100);\n",
    "r = 70*ones(size(t));\n",
    "[y,tout] = lsim(Gcl,r,t,x0);\n",
    "plot(tout,y), xlabel('t'), ylim([0,70])"
   ]
  },
  {
   "cell_type": "markdown",
   "metadata": {},
   "source": [
    "## 3.2. Back to the World's Simplest Robot (Output Feedback)\n",
    "\n",
    "- from 3.7 Output Feedback | Control of Mobile Robots"
   ]
  },
  {
   "cell_type": "code",
   "execution_count": 7,
   "metadata": {
    "collapsed": false
   },
   "outputs": [
    {
     "data": {
      "text/html": [
       "<center><iframe src=\"https://www.youtube.com/embed/HmqOnsRH73w?list=PLp8ijpvp8iCvFDYdcXqqYU5Ibl_aOqwjr\" \n",
       "width=\"560\" height=\"315\" frameborder=\"0\" allowfullscreen></iframe></center>"
      ],
      "text/plain": [
       "<IPython.core.display.HTML object>"
      ]
     },
     "metadata": {},
     "output_type": "display_data"
    }
   ],
   "source": [
    "%%html\n",
    "<center><iframe src=\"https://www.youtube.com/embed/HmqOnsRH73w?list=PLp8ijpvp8iCvFDYdcXqqYU5Ibl_aOqwjr\" \n",
    "width=\"560\" height=\"315\" frameborder=\"0\" allowfullscreen></iframe></center>"
   ]
  },
  {
   "cell_type": "markdown",
   "metadata": {},
   "source": [
    "$$u = -y$$\n",
    "\n",
    "<img src=\"./image_files/outputfeedback.png\" width=400/>"
   ]
  },
  {
   "cell_type": "code",
   "execution_count": 19,
   "metadata": {
    "collapsed": false,
    "scrolled": false
   },
   "outputs": [
    {
     "data": {
      "image/png": "[encoded data removed]",
      "text/plain": [
       "<IPython.core.display.Image object>"
      ]
     },
     "metadata": {},
     "output_type": "display_data"
    },
    {
     "data": {},
     "execution_count": 19,
     "metadata": {},
     "output_type": "execute_result"
    }
   ],
   "source": [
    "% to move towards the origin\n",
    "% u = -y\n",
    "\n",
    "A = [0 1;0 0];\n",
    "B = [0 1]';\n",
    "C = [1 0];\n",
    "D = 0;\n",
    "G = ss(A,B,C,D);\n",
    "\n",
    "K = 1;\n",
    "Gcl = feedback(G,K,-1);\n",
    "x0 = [1 0]';\n",
    "t = linspace(0,10,100);\n",
    "r = zeros(size(t));\n",
    "[y,tout] = lsim(Gcl,r,t,x0);\n",
    "plot(tout,y), xlabel('t')"
   ]
  },
  {
   "cell_type": "code",
   "execution_count": 20,
   "metadata": {
    "collapsed": false
   },
   "outputs": [
    {
     "data": {
      "text/plain": [
       "ans =\r\n",
       "\r\n",
       "   0.0000 + 1.0000i\r\n",
       "   0.0000 - 1.0000i"
      ]
     },
     "execution_count": 20,
     "metadata": {},
     "output_type": "execute_result"
    }
   ],
   "source": [
    "eig(Gcl)"
   ]
  },
  {
   "cell_type": "markdown",
   "metadata": {},
   "source": [
    "# 4. State Feedback\n",
    "\n",
    "- from 3.8 State Feedback | Control of Mobile Robots"
   ]
  },
  {
   "cell_type": "code",
   "execution_count": 8,
   "metadata": {
    "collapsed": false
   },
   "outputs": [
    {
     "data": {
      "text/html": [
       "<center><iframe src=\"https://www.youtube.com/embed/yl5IiJOYQps?list=PLciAw3uhNCiD3dkLTPJgHoMnsu8XgCt1m\" \n",
       "width=\"560\" height=\"315\" frameborder=\"0\" allowfullscreen></iframe></center>"
      ],
      "text/plain": [
       "<IPython.core.display.HTML object>"
      ]
     },
     "metadata": {},
     "output_type": "display_data"
    }
   ],
   "source": [
    "%%html\n",
    "<center><iframe src=\"https://www.youtube.com/embed/yl5IiJOYQps?list=PLciAw3uhNCiD3dkLTPJgHoMnsu8XgCt1m\" \n",
    "width=\"560\" height=\"315\" frameborder=\"0\" allowfullscreen></iframe></center>"
   ]
  },
  {
   "cell_type": "markdown",
   "metadata": {},
   "source": [
    "<img src=\"./image_files/statefeedback.gif\" width = 400>\n",
    "\n",
    "To move forwards origin, $R = 0$"
   ]
  },
  {
   "cell_type": "code",
   "execution_count": 22,
   "metadata": {
    "collapsed": false
   },
   "outputs": [
    {
     "data": {
      "image/png": "[encoded data removed]",
      "text/plain": [
       "<IPython.core.display.Image object>"
      ]
     },
     "metadata": {},
     "output_type": "display_data"
    },
    {
     "data": {},
     "execution_count": 22,
     "metadata": {},
     "output_type": "execute_result"
    }
   ],
   "source": [
    "A = [0 1;0 0];\n",
    "B = [0 1]';\n",
    "C = [1 0];\n",
    "D = 0;\n",
    "G = ss(A,B,C,D);\n",
    "\n",
    "k1 = 1;\n",
    "k2 = 1;\n",
    "K = [k1 k2];\n",
    "Gcl = ss(A-B*K,B,C,D);\n",
    "\n",
    "x0 = [1 0]';\n",
    "t = linspace(0,10,100);\n",
    "r = zeros(size(t));\n",
    "[y,tout] = lsim(Gcl,r,t,x0);\n",
    "plot(tout,y,tout,zeros(size(tout)),'k--'), xlabel('t')"
   ]
  },
  {
   "cell_type": "code",
   "execution_count": 23,
   "metadata": {
    "collapsed": false
   },
   "outputs": [
    {
     "data": {
      "text/plain": [
       "ans =\r\n",
       "\r\n",
       "  -0.5000 + 0.8660i\r\n",
       "  -0.5000 - 0.8660i"
      ]
     },
     "execution_count": 23,
     "metadata": {},
     "output_type": "execute_result"
    }
   ],
   "source": [
    "eig(Gcl)"
   ]
  },
  {
   "cell_type": "markdown",
   "metadata": {},
   "source": [
    "Eigenvalues Matter \n",
    "- It is clear that some eigenvalues are better than others. Some cause oscillations, some make the system respond too slowly,\n",
    "and so forth ...\n",
    "- In the next module we will see how to select eigenvalues and how to pick control laws based on the output rather than the state."
   ]
  },
  {
   "cell_type": "markdown",
   "metadata": {},
   "source": [
    "## 4.1. Pole Placement\n",
    "- from 4.1 Stabilizing the Point Mass | Control of Mobile Robots\n",
    "\n",
    "- from 4.2 Pole Placement | Control of Mobile Robots"
   ]
  },
  {
   "cell_type": "code",
   "execution_count": 9,
   "metadata": {
    "collapsed": false
   },
   "outputs": [
    {
     "data": {
      "text/html": [
       "<center><iframe src=\"https://www.youtube.com/embed/S4WZTmEnbrY?list=PLp8ijpvp8iCvFDYdcXqqYU5Ibl_aOqwjr\" \n",
       "width=\"560\" height=\"315\" frameborder=\"0\" allowfullscreen></iframe></center>"
      ],
      "text/plain": [
       "<IPython.core.display.HTML object>"
      ]
     },
     "metadata": {},
     "output_type": "display_data"
    }
   ],
   "source": [
    "%%html\n",
    "<center><iframe src=\"https://www.youtube.com/embed/S4WZTmEnbrY?list=PLp8ijpvp8iCvFDYdcXqqYU5Ibl_aOqwjr\" \n",
    "width=\"560\" height=\"315\" frameborder=\"0\" allowfullscreen></iframe></center>"
   ]
  },
  {
   "cell_type": "code",
   "execution_count": 10,
   "metadata": {
    "collapsed": false
   },
   "outputs": [
    {
     "data": {
      "text/html": [
       "<center><iframe src=\"https://www.youtube.com/embed/5tWhOK8Klo0?list=PLp8ijpvp8iCvFDYdcXqqYU5Ibl_aOqwjr\" \n",
       "width=\"560\" height=\"315\" frameborder=\"0\" allowfullscreen></iframe></center>"
      ],
      "text/plain": [
       "<IPython.core.display.HTML object>"
      ]
     },
     "metadata": {},
     "output_type": "display_data"
    }
   ],
   "source": [
    "%%html\n",
    "<center><iframe src=\"https://www.youtube.com/embed/5tWhOK8Klo0?list=PLp8ijpvp8iCvFDYdcXqqYU5Ibl_aOqwjr\" \n",
    "width=\"560\" height=\"315\" frameborder=\"0\" allowfullscreen></iframe></center>"
   ]
  },
  {
   "cell_type": "markdown",
   "metadata": {
    "collapsed": true
   },
   "source": [
    "back to the point-mass, again\n",
    " \n",
    " $$ u = -Kx \\rightarrow \\dot{x}=(A-BK)x $$\n",
    " \n",
    " $$\n",
    "\\begin{align*}\n",
    "A-BK = \n",
    "\\left[ {\\begin{matrix}\n",
    "   0 & 1 \\\\\n",
    "   0 & 0 \\\\   \n",
    "  \\end{matrix} } \\right]-\n",
    "\\left[ {\\begin{array}{cc}\n",
    "   0 \\\\\n",
    "   1 \\\\   \n",
    "\\end{array} } \\right]\n",
    "\\left[ {\\begin{array}{cc}\n",
    "   k_1 \\,\\, k_2   \n",
    "\\end{array} } \\right]&=\n",
    "\\left[ {\\begin{matrix}\n",
    "   0 & 1 \\\\\n",
    "   -k_1 & -k_2 \\\\   \n",
    "\\end{matrix} } \\right]\n",
    "\\end{align*}\n",
    "$$\n",
    "\n",
    "$$\n",
    "\\left| {\n",
    "\\begin{matrix}\n",
    "   0 & 1 \\\\\n",
    "   -k_1 & -k_2 \\\\   \n",
    "\\end{matrix} } \\right|=\n",
    "\\lambda^2 + \\lambda k_2 + k_1\n",
    "$$\n",
    "\n",
    "Desired Eigenvalues: let's pick both eigenvalues at -1\n",
    "\n",
    "$$ (\\lambda+1)(\\lambda+1) = \\lambda^2 + 2 \\lambda + 1 $$\n",
    "\n",
    "$$k_1 = 2, k_2 = 1 $$\n",
    "\n",
    "<img src=\"./image_files/state_feedback_ukx.png\" width=350/>\n",
    "\n",
    "Pick the control gains such that the eigenvalues (poles) of the closed loop system match the desired eigenvalues\n",
    "\n",
    "Questions\n",
    "- Is this always possible? (No)\n",
    "- How should we pick the eigenvalues? (Mix of art and science)\n",
    "\n",
    "$$\n",
    "\\begin{align*}\n",
    "\\dot{x} &= \n",
    "\\left[ {\\begin{matrix}\n",
    "   2 & 0 \\\\\n",
    "   1 & 1 \\\\   \n",
    "  \\end{matrix} } \\right]\n",
    "\\left[ {\\begin{array}{cc}\n",
    "   x_1 \\\\\n",
    "   x_2 \\\\   \n",
    "\\end{array} } \\right] +\n",
    "\\left[ {\\begin{array}{cc}\n",
    "   1 \\\\\n",
    "   1 \\\\   \n",
    "\\end{array} } \\right]u  \n",
    "\\end{align*}\n",
    "$$\n",
    "\n",
    "$$\n",
    "\\begin{align*}\n",
    "A-BK = \n",
    "\\left[ {\\begin{matrix}\n",
    "   2-k_1 & -k_2 \\\\\n",
    "   1-k_1 & 1-k_2 \\\\   \n",
    "\\end{matrix} } \\right]\n",
    "\\end{align*}\n",
    "$$\n",
    "\n",
    "$$ \\varphi = \\lambda^2 + \\lambda (-3 + k_1 + k_2) + 2 - k_1 - k_2$$\n",
    "\n",
    "Suppose \n",
    "$$ \\varphi = (\\lambda+1)^2 = \\lambda^2 + \\lambda (-3 + k_1 + k_2) + 2 - k_1 - k_2$$\n",
    "\n",
    "Let's pick both eigenvalues at -1\n",
    "\n",
    "$$-3 + k_1 + k_2 = 2 \\quad \\text{and} \\quad 2 - k_1 - k_2 = 1$$\n",
    "\n",
    "$\\rightarrow$ no $k_1$ and $k_2$ exist\n",
    "\n",
    "What's at play here is a lack of ``controllability``, i.e., the effect of the input is not sufficiently rich to influence the system enough"
   ]
  },
  {
   "cell_type": "code",
   "execution_count": 26,
   "metadata": {
    "collapsed": false
   },
   "outputs": [
    {
     "data": {
      "text/plain": [
       "K =\r\n",
       "\r\n",
       "    2.6250   -0.6250"
      ]
     },
     "execution_count": 26,
     "metadata": {},
     "output_type": "execute_result"
    }
   ],
   "source": [
    "A = [2 0;\n",
    "     1 -1];\n",
    "    \n",
    "B = [1 1]';    \n",
    "C = [1 0];\n",
    "\n",
    "P = [-0.5 + 1j, -0.5 - 1j];\n",
    "%P = [-0.1 + 1j, -0.1 - 1j];\n",
    "%P = [-0.5, -1];\n",
    "%P = [-5, -4];\n",
    "\n",
    "K = place(A,B,P)"
   ]
  },
  {
   "cell_type": "markdown",
   "metadata": {},
   "source": [
    "$$ \\dot{x} = Ax + Bu = Ax-BKx = (A-BK)x $$"
   ]
  },
  {
   "cell_type": "code",
   "execution_count": 27,
   "metadata": {
    "collapsed": false
   },
   "outputs": [
    {
     "data": {
      "image/png": "[encoded data removed]",
      "text/plain": [
       "<IPython.core.display.Image object>"
      ]
     },
     "metadata": {},
     "output_type": "display_data"
    },
    {
     "data": {},
     "execution_count": 27,
     "metadata": {},
     "output_type": "execute_result"
    }
   ],
   "source": [
    "x0 = [1 1]';\n",
    "Gcl = ss(A-B*K,B,C, 0);\n",
    "\n",
    "t = linspace(0,5,100);\n",
    "u = zeros(size(t));\n",
    "\n",
    "[y, tout] = lsim(Gcl,u,t,x0);\n",
    "plot(tout,y,tout,zeros(size(tout)),'k--'), xlabel('t')"
   ]
  },
  {
   "cell_type": "markdown",
   "metadata": {},
   "source": [
    "## 4.2. Controllability"
   ]
  },
  {
   "cell_type": "markdown",
   "metadata": {},
   "source": [
    "- When can we place the eigenvalues using state feedback?\n",
    "\n",
    "- When is B matrix (the actuator configuration) rich enough so that we can make the system do whatever we want it to do?\n",
    "\n",
    "- The answer revolves around the concept of ``controllability``\n",
    "\n",
    "Given a discrete-time system\n",
    "\n",
    "$$x_{k+1} = Ax_k + Bu_k$$\n",
    "\n",
    "We would like to drive this system in $n$ steps to a particular target state $x^{*}$ \n",
    "\n",
    "$$\n",
    "\\begin{align*}\n",
    "x_1 &= Ax_0 + Bu_0 = Bu_0\\\\\n",
    "x_2 &= Ax_1 + Bu_1 = ABu_0 + Bu_1\\\\\n",
    "x_3 &= Ax_2 + Bu_2 = A^2Bu_0 + ABu_1 + Bu_2\\\\\n",
    "&\\vdots\\\\\n",
    "x_n &= A^{n-1}Bu_0 + \\cdots + Bu_{n-1}\\\\\n",
    "\\end{align*}\n",
    "$$\n",
    "\n",
    "We want to solve\n",
    "\n",
    "$$\n",
    "\\begin{align*}\n",
    "x^{*} &= \n",
    "\\left[ {\\begin{matrix}\n",
    "   B & AB & \\cdots & A^{n-1}B\\\\   \n",
    "  \\end{matrix} } \\right]\n",
    "\\left[ {\\begin{array}{cc}\n",
    "   u_{n-1} \\\\\n",
    "   \\vdots \\\\   \n",
    "   u_1\\\\\n",
    "   u_0\n",
    "\\end{array} } \\right] \n",
    "\\end{align*}\n",
    "$$\n",
    "\n",
    "This is possible for any target state if and only if \n",
    "$$\n",
    "\\text{rank}\\left(\\left[ {\\begin{matrix}\n",
    "   B & AB & \\cdots & A^{n-1}B\\\\   \n",
    "  \\end{matrix} } \\right]\\right) = n\n",
    "$$"
   ]
  },
  {
   "cell_type": "markdown",
   "metadata": {},
   "source": [
    "__Example 1__\n",
    "\n",
    "$$\n",
    "\\dot{x} = \n",
    "\\left[ {\\begin{matrix}\n",
    "   2 & 0 \\\\\n",
    "   1 & 1 \\\\   \n",
    "  \\end{matrix} } \\right]\n",
    "\\left[ {\\begin{array}{cc}\n",
    "   x_1 \\\\\n",
    "   x_2 \\\\   \n",
    "\\end{array} } \\right] +\n",
    "\\left[ {\\begin{array}{cc}\n",
    "   1 \\\\\n",
    "   1 \\\\   \n",
    "\\end{array} } \\right]u  \n",
    "$$"
   ]
  },
  {
   "cell_type": "code",
   "execution_count": 28,
   "metadata": {
    "collapsed": false
   },
   "outputs": [
    {
     "data": {
      "text/plain": [
       "G =\r\n",
       "\r\n",
       "     1     2\r\n",
       "     1     2\r\n",
       "\r\n",
       "\r\n",
       "ans =\r\n",
       "\r\n",
       "     1"
      ]
     },
     "execution_count": 28,
     "metadata": {},
     "output_type": "execute_result"
    }
   ],
   "source": [
    "A = [2 0;\n",
    "     1 1];\n",
    "B = [1 1]';     \n",
    "\n",
    "G = ctrb(A,B)\n",
    "rank(G)"
   ]
  },
  {
   "cell_type": "markdown",
   "metadata": {},
   "source": [
    "__Example 2__\n",
    "\n",
    "$$\n",
    "\\dot{x} = \n",
    "\\left[ {\\begin{matrix}\n",
    "   0 & 1 \\\\\n",
    "   0 & 0 \\\\   \n",
    "  \\end{matrix} } \\right]\n",
    "\\left[ {\\begin{array}{cc}\n",
    "   x_1 \\\\\n",
    "   x_2 \\\\   \n",
    "\\end{array} } \\right] +\n",
    "\\left[ {\\begin{array}{cc}\n",
    "   0 \\\\\n",
    "   1 \\\\   \n",
    "\\end{array} } \\right]u  \n",
    "$$"
   ]
  },
  {
   "cell_type": "code",
   "execution_count": 29,
   "metadata": {
    "collapsed": false
   },
   "outputs": [
    {
     "data": {
      "text/plain": [
       "G =\r\n",
       "\r\n",
       "     0     1\r\n",
       "     1     0\r\n",
       "\r\n",
       "\r\n",
       "ans =\r\n",
       "\r\n",
       "     2"
      ]
     },
     "execution_count": 29,
     "metadata": {},
     "output_type": "execute_result"
    }
   ],
   "source": [
    "A = [0 1;\n",
    "     0 0];\n",
    "B = [0 1]';     \n",
    "\n",
    "G = ctrb(A,B)\n",
    "rank(G)"
   ]
  },
  {
   "cell_type": "markdown",
   "metadata": {},
   "source": [
    "## 4.3. Observer\n",
    "\n",
    "- We now know how to design rather effective controllers using state feedback.\n",
    "\n",
    "- But what about $y$ ?\n",
    "\n",
    "<img src=\"./image_files/observer.png\" width=350/>\n",
    "\n",
    "The predictor-corrector ('Luenberger' observer)\n",
    "\n",
    "$$\n",
    "\\begin{align*}\n",
    "\\dot x &= A x \\\\\n",
    "y &= C x\n",
    "\\end{align*}\n",
    "$$\n",
    "\n",
    "1) Make a copy of the system\n",
    "$$\\dot{\\hat{x}} = A \\hat x \\quad \\text{predictor}$$\n",
    "\n",
    "2) Add a notion of how wrong your estimate is to the model\n",
    "\n",
    "$$ \\dot{\\hat{x}} = A \\hat x + \\underbrace{L \\left(y - C \\hat x \\right)}_{\\text{corrector}} $$\n",
    "\n",
    "Picking the Observer Gain\n",
    "\n",
    "- What we want to stabilize (drive to zero) is the _estimation error_, i.e., the difference between the actual state and the estimated state $e = x - \\hat x$\n",
    "\n",
    "$$\n",
    "\\begin{align*}\n",
    "\\dot e &= \\dot x - \\dot{\\hat{x}} = Ax - A \\hat x - L \\left(y - C \\hat x \\right)\\\\\n",
    "& = A\\left( x - \\hat x\\right) - LC \\left(x - \\hat x \\right) = (A-LC) \\; e\n",
    "\\end{align*}\n",
    "$$\n",
    "\n",
    "- Just pick $L$ such that the eigenvalues to $A-LC$ have negative real part !!!\n",
    "\n",
    "$$ \\text{Re}\\left( \\text{eig (A-LC)}\\right) < 0$$\n",
    "\n",
    "- We already know how to do this $\\rightarrow$ Pole-placement\n",
    "\n",
    "<img src=\"./image_files/observer_block_diagram.png\" width=400/>\n",
    "\n",
    "Does this always work?\n",
    "- No\n",
    "\n"
   ]
  },
  {
   "cell_type": "markdown",
   "metadata": {},
   "source": [
    "## 4.4. Observability\n",
    "\n",
    "Need to redo what we did for control design to understand when we can recover the state from the output\n",
    "\n",
    "- Given a discrete time system without inptus\n",
    "\n",
    "$$\n",
    "\\begin{align*}\n",
    "x_{k+1} &= Ax_k \\\\\n",
    "y_k &= C x_k\n",
    "\\end{align*}\n",
    "$$\n",
    "\n",
    "Can we recover the initial condition by collecting $n$ output values?\n",
    "\n",
    "$$\n",
    "\\begin{align*}\n",
    "y_0 &= Cx_0 \\\\\n",
    "y_1 &= Cx_1 = CAx_0\\\\\n",
    "&\\;\\vdots\\\\\n",
    "y_{n-1} &= CA^{n-1}x_0 \\\\\n",
    "\\end{align*}\n",
    "$$\n",
    "\n",
    "The Observability Matrix\n",
    "\n",
    "$$\n",
    "\\begin{align*}\n",
    "\\left[ {\\begin{array}{cc}\n",
    "   y_{0} \\\\\n",
    "   y_1\\\\\n",
    "   y_2\\\\\n",
    "   \\vdots \\\\   \n",
    "   y_{n-1}   \n",
    "\\end{array} } \\right] = \n",
    "\\left[ {\\begin{array}{cc}\n",
    "   C \\\\\n",
    "   CA\\\\\n",
    "   CA^2\\\\\n",
    "   \\vdots \\\\   \n",
    "   CA^{n-1}   \n",
    "\\end{array} } \\right] x_0\n",
    "\\end{align*}\n",
    "$$\n",
    "\n",
    "The initial condition can be recovered from the outputs when the so-called observability matrix has full rank."
   ]
  },
  {
   "cell_type": "markdown",
   "metadata": {},
   "source": [
    "## 4.5. The Separation Principle\n",
    "\n",
    "Now, how do we put everything together?\n",
    "\n",
    "<img src=\"./image_files/final_block_diagram.png\" width=450/>\n",
    "\n",
    "Step 1) Design the stat feedback controller as if we had $x$ (which we don't)\n",
    "\n",
    "$$\n",
    "\\begin{align*}\n",
    "u &= -Kx \\quad \\implies \\hat x = (A-BK) x \\quad \\text{what we design for}\\\\\n",
    "u &= -K \\hat x \\quad \\text{what we actually have}\n",
    "\\end{align*}\n",
    "$$\n",
    "\n",
    "Step 2) Estimate $x$ using an observer (that now also contains $u$)\n",
    "\n",
    "$$\n",
    "\\begin{align*}\n",
    "\\dot{\\hat{x}} &= A \\hat x + Bu + L \\left(y - C \\hat x \\right)\\\\\n",
    "&\\implies \\dot e = (A-LC)\\, e\n",
    "\\end{align*}\n",
    "$$\n",
    "\n",
    "- Want both $x$ and $e$ to be stabilized\n",
    "\n",
    "$$\n",
    "\\begin{align*}\n",
    "\\dot x &= Ax-BK \\hat x = Ax - BK(x-e) = (A-BK)x + BK e\\\\\n",
    "\\dot e &= (A-LC)\\,e\n",
    "\\end{align*}\n",
    "$$\n",
    "\n",
    "or\n",
    "\n",
    "$$\n",
    "\\begin{bmatrix}\n",
    "\\dot x \\\\ \\dot e\n",
    "\\end{bmatrix}=\n",
    "\\underbrace{\\begin{bmatrix}\n",
    "A-BK & BK \\\\ 0 & A-LC\n",
    "\\end{bmatrix}}_{M}\n",
    "\\begin{bmatrix}\n",
    "x \\\\ e\n",
    "\\end{bmatrix}\n",
    "$$\n",
    "\n",
    "This is an (upper) triangular block matrix\n",
    "\n",
    "$\\rightarrow$ Its eigenvalues are given by the eigenvalues of the diagonal blocks!\n",
    "\n",
    "Design $K$ and $L$ independently to satisfy\n",
    "\n",
    "$$ \\text{Re}\\left( \\text{eig (A-BK)}\\right) < 0, \\quad \\text{Re}\\left( \\text{eig (A-LC)}\\right) < 0$$\n",
    "\n",
    "<br>\n",
    "<img src=\"./image_files/StateSpace_BlockDiagram.png\" width=350/>"
   ]
  },
  {
   "cell_type": "code",
   "execution_count": 1,
   "metadata": {
    "collapsed": false
   },
   "outputs": [
    {
     "data": {
      "application/javascript": [
       "$.getScript('https://kmahelona.github.io/ipython_notebook_goodies/ipython_notebook_toc.js')"
      ],
      "text/plain": [
       "<IPython.core.display.Javascript object>"
      ]
     },
     "metadata": {},
     "output_type": "display_data"
    }
   ],
   "source": [
    "%%javascript\n",
    "$.getScript('https://kmahelona.github.io/ipython_notebook_goodies/ipython_notebook_toc.js')"
   ]
  }
 ],
 "metadata": {
  "anaconda-cloud": {},
  "kernelspec": {
   "display_name": "Matlab",
   "language": "matlab",
   "name": "matlab_kernel"
  },
  "language_info": {
   "file_extension": ".m",
   "help_links": [
    {
     "text": "MetaKernel Magics",
     "url": "https://github.com/calysto/metakernel/blob/master/metakernel/magics/README.md"
    }
   ],
   "mimetype": "text/x-matlab",
   "name": "octave"
  }
 },
 "nbformat": 4,
 "nbformat_minor": 0
}
